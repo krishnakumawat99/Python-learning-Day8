{
  "nbformat": 4,
  "nbformat_minor": 0,
  "metadata": {
    "colab": {
      "provenance": []
    },
    "kernelspec": {
      "name": "python3",
      "display_name": "Python 3"
    },
    "language_info": {
      "name": "python"
    }
  },
  "cells": [
    {
      "cell_type": "code",
      "execution_count": null,
      "metadata": {
        "colab": {
          "base_uri": "https://localhost:8080/"
        },
        "id": "tekb3h3BiFVt",
        "outputId": "a4328645-f3b7-4ab2-f44d-006299664491"
      },
      "outputs": [
        {
          "output_type": "stream",
          "name": "stdout",
          "text": [
            "* * * * \n",
            "* * * * \n",
            "* * * * \n",
            "* * * * \n"
          ]
        }
      ],
      "source": [
        "for i in range(1,5):\n",
        "  for j in range(1,5):\n",
        "    print(\"*\",end=\" \")\n",
        "\n",
        "  print(\"\")"
      ]
    },
    {
      "cell_type": "code",
      "source": [
        "for i in range(1,5):\n",
        "  for j in range(1,4):\n",
        "    print(\"*\",end=\" \")\n",
        "\n",
        "  print(\"\")"
      ],
      "metadata": {
        "colab": {
          "base_uri": "https://localhost:8080/"
        },
        "id": "vygx3CdPiN5G",
        "outputId": "0bc61ae0-c996-4e7f-90e6-6841e4dbe904"
      },
      "execution_count": null,
      "outputs": [
        {
          "output_type": "stream",
          "name": "stdout",
          "text": [
            "* * * \n",
            "* * * \n",
            "* * * \n",
            "* * * \n"
          ]
        }
      ]
    },
    {
      "cell_type": "code",
      "source": [
        "for i in range(1, 3):\n",
        "    for j in range(4):\n",
        "        print(i, end=\" \")\n",
        "    print()"
      ],
      "metadata": {
        "id": "4pR2LngEjBex",
        "colab": {
          "base_uri": "https://localhost:8080/"
        },
        "outputId": "c64f19bc-8130-4e48-fba2-876178368213"
      },
      "execution_count": 1,
      "outputs": [
        {
          "output_type": "stream",
          "name": "stdout",
          "text": [
            "1 1 1 1 \n",
            "2 2 2 2 \n"
          ]
        }
      ]
    },
    {
      "cell_type": "code",
      "source": [
        "for i in range(3, 6):\n",
        "    for j in range(3):\n",
        "        print(i, end=\" \")\n",
        "    print()"
      ],
      "metadata": {
        "colab": {
          "base_uri": "https://localhost:8080/"
        },
        "id": "l3_aaPl2FIAf",
        "outputId": "e95c03e5-e5b2-4df6-9ab0-7228256f2a06"
      },
      "execution_count": 4,
      "outputs": [
        {
          "output_type": "stream",
          "name": "stdout",
          "text": [
            "3 3 3 \n",
            "4 4 4 \n",
            "5 5 5 \n"
          ]
        }
      ]
    },
    {
      "cell_type": "code",
      "source": [
        "for i in range(5,1,-1):\n",
        "    for j in range(3):\n",
        "        print(i, end=\" \")\n",
        "    print()"
      ],
      "metadata": {
        "colab": {
          "base_uri": "https://localhost:8080/"
        },
        "id": "yyysPpRKFXpU",
        "outputId": "288fabd5-79bf-4d09-fa3f-ca4d6f82331e"
      },
      "execution_count": 6,
      "outputs": [
        {
          "output_type": "stream",
          "name": "stdout",
          "text": [
            "5 5 5 \n",
            "4 4 4 \n",
            "3 3 3 \n",
            "2 2 2 \n"
          ]
        }
      ]
    },
    {
      "cell_type": "code",
      "source": [
        "for i in range(1, 4):\n",
        "    for j in range(1, 4):\n",
        "        print(j, end=\"\")\n",
        "    print()"
      ],
      "metadata": {
        "colab": {
          "base_uri": "https://localhost:8080/"
        },
        "id": "R5ITM_gsIM6Q",
        "outputId": "ed2b01f7-d5c7-42a8-bf88-f7c0cc673adb"
      },
      "execution_count": 7,
      "outputs": [
        {
          "output_type": "stream",
          "name": "stdout",
          "text": [
            "123\n",
            "123\n",
            "123\n"
          ]
        }
      ]
    },
    {
      "cell_type": "code",
      "source": [
        "n=1\n",
        "for i in range(3):\n",
        "    for j in range(4):\n",
        "      print(n, end=\"\")\n",
        "      n+=1\n",
        "    print()\n"
      ],
      "metadata": {
        "colab": {
          "base_uri": "https://localhost:8080/"
        },
        "id": "W0xm5gGdI8-p",
        "outputId": "3749ae34-f0bc-47e8-b149-f709a59f2f63"
      },
      "execution_count": 13,
      "outputs": [
        {
          "output_type": "stream",
          "name": "stdout",
          "text": [
            "1234\n",
            "5678\n",
            "9101112\n"
          ]
        }
      ]
    },
    {
      "cell_type": "code",
      "source": [
        "for i in range(3):\n",
        "  for j in range(3):\n",
        "    print(chr(65+j),end=\" \")\n",
        "\n",
        "  print()"
      ],
      "metadata": {
        "colab": {
          "base_uri": "https://localhost:8080/"
        },
        "id": "EcSjUkClI_5p",
        "outputId": "d0072f6b-0922-407a-e65c-f139ff9779f5"
      },
      "execution_count": 15,
      "outputs": [
        {
          "output_type": "stream",
          "name": "stdout",
          "text": [
            "A B C \n",
            "A B C \n",
            "A B C \n"
          ]
        }
      ]
    },
    {
      "cell_type": "code",
      "source": [
        "n=65\n",
        "for i in range(3):\n",
        "  for j in range(3):\n",
        "    print(chr(n),end=\" \")\n",
        "    n+=1\n",
        "\n",
        "  print()"
      ],
      "metadata": {
        "colab": {
          "base_uri": "https://localhost:8080/"
        },
        "id": "NW51zdFqKIRw",
        "outputId": "7afa21be-ac69-4984-fbf8-9ce64030818a"
      },
      "execution_count": 19,
      "outputs": [
        {
          "output_type": "stream",
          "name": "stdout",
          "text": [
            "A B C \n",
            "D E F \n",
            "G H I \n"
          ]
        }
      ]
    },
    {
      "cell_type": "code",
      "source": [],
      "metadata": {
        "id": "TB7QeztmK4ie"
      },
      "execution_count": null,
      "outputs": []
    }
  ]
}